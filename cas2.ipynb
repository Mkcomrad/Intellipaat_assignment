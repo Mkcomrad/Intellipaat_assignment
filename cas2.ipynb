{
 "cells": [
  {
   "cell_type": "code",
   "execution_count": 1,
   "id": "04948b2c",
   "metadata": {},
   "outputs": [
    {
     "ename": "NameError",
     "evalue": "name 'Task1' is not defined",
     "output_type": "error",
     "traceback": [
      "\u001b[1;31m---------------------------------------------------------------------------\u001b[0m",
      "\u001b[1;31mNameError\u001b[0m                                 Traceback (most recent call last)",
      "Cell \u001b[1;32mIn[1], line 1\u001b[0m\n\u001b[1;32m----> 1\u001b[0m \u001b[43mTask1\u001b[49m\n",
      "\u001b[1;31mNameError\u001b[0m: name 'Task1' is not defined"
     ]
    }
   ],
   "source": [
    "Task1"
   ]
  },
  {
   "cell_type": "code",
   "execution_count": null,
   "id": "40d5e1ac",
   "metadata": {},
   "outputs": [],
   "source": [
    "tupl1=(10,20,30)\n",
    "tupl2=(40,50,60)"
   ]
  },
  {
   "cell_type": "code",
   "execution_count": null,
   "id": "81c34803",
   "metadata": {},
   "outputs": [],
   "source": [
    "t_combine=tupl1+tupl2"
   ]
  },
  {
   "cell_type": "code",
   "execution_count": null,
   "id": "c4c365c3",
   "metadata": {},
   "outputs": [],
   "source": [
    "t_combine"
   ]
  },
  {
   "cell_type": "code",
   "execution_count": null,
   "id": "ca900d60",
   "metadata": {},
   "outputs": [],
   "source": [
    "[t_combine]*3"
   ]
  },
  {
   "cell_type": "code",
   "execution_count": null,
   "id": "3f9e5943",
   "metadata": {},
   "outputs": [],
   "source": [
    "t_combine[2]"
   ]
  },
  {
   "cell_type": "code",
   "execution_count": null,
   "id": "ed789fdc",
   "metadata": {},
   "outputs": [],
   "source": [
    "t_combine[0:3]"
   ]
  },
  {
   "cell_type": "code",
   "execution_count": null,
   "id": "e3621426",
   "metadata": {},
   "outputs": [],
   "source": [
    "t_combine[-3:]"
   ]
  },
  {
   "cell_type": "code",
   "execution_count": null,
   "id": "ff1b06fb",
   "metadata": {},
   "outputs": [],
   "source": [
    "tast 2"
   ]
  },
  {
   "cell_type": "code",
   "execution_count": 6,
   "id": "7489b073",
   "metadata": {},
   "outputs": [],
   "source": [
    "my_list=[(1,2,3),(\"a\",\"b\",\"c\"),(True,False)]"
   ]
  },
  {
   "cell_type": "code",
   "execution_count": 7,
   "id": "b988dbb5",
   "metadata": {},
   "outputs": [
    {
     "data": {
      "text/plain": [
       "[(1, 2, 3), ('a', 'b', 'c'), (True, False)]"
      ]
     },
     "execution_count": 7,
     "metadata": {},
     "output_type": "execute_result"
    }
   ],
   "source": [
    "my_list"
   ]
  },
  {
   "cell_type": "code",
   "execution_count": null,
   "id": "02ab8128",
   "metadata": {},
   "outputs": [],
   "source": [
    "Task3"
   ]
  },
  {
   "cell_type": "code",
   "execution_count": 12,
   "id": "37e2a166",
   "metadata": {},
   "outputs": [
    {
     "data": {
      "text/plain": [
       "[(1, 2, 3),\n",
       " ('a', 'b', 'c'),\n",
       " (True, False),\n",
       " (1, 'a', True),\n",
       " (1, 'a', True),\n",
       " (1, 'a', True),\n",
       " (1, 'a', True)]"
      ]
     },
     "execution_count": 12,
     "metadata": {},
     "output_type": "execute_result"
    }
   ],
   "source": [
    "my_list.append((1, 'a', True))\n",
    "my_list"
   ]
  },
  {
   "cell_type": "code",
   "execution_count": null,
   "id": "96fe4f2a",
   "metadata": {},
   "outputs": [],
   "source": [
    "Task4"
   ]
  },
  {
   "cell_type": "code",
   "execution_count": 17,
   "id": "39e67f59",
   "metadata": {},
   "outputs": [],
   "source": [
    "dict={'fruit':(\"apple\",'banana','mango','guava'),'cast':(85,54,120,70)}\n"
   ]
  },
  {
   "cell_type": "code",
   "execution_count": 18,
   "id": "7993ce86",
   "metadata": {},
   "outputs": [
    {
     "data": {
      "text/plain": [
       "{'fruit': ('apple', 'banana', 'mango', 'guava'), 'cast': (85, 54, 120, 70)}"
      ]
     },
     "execution_count": 18,
     "metadata": {},
     "output_type": "execute_result"
    }
   ],
   "source": [
    "dict"
   ]
  },
  {
   "cell_type": "code",
   "execution_count": 22,
   "id": "f8947101",
   "metadata": {},
   "outputs": [],
   "source": [
    "keys=dict.keys()"
   ]
  },
  {
   "cell_type": "code",
   "execution_count": 23,
   "id": "ec9ab1c1",
   "metadata": {},
   "outputs": [],
   "source": [
    "value=dict.values()"
   ]
  },
  {
   "cell_type": "code",
   "execution_count": 42,
   "id": "d6ec12bd",
   "metadata": {},
   "outputs": [
    {
     "data": {
      "text/plain": [
       "dict_keys(['fruit', 'cast'])"
      ]
     },
     "execution_count": 42,
     "metadata": {},
     "output_type": "execute_result"
    }
   ],
   "source": [
    "keys"
   ]
  },
  {
   "cell_type": "code",
   "execution_count": 43,
   "id": "9a6992b3",
   "metadata": {},
   "outputs": [
    {
     "data": {
      "text/plain": [
       "('apple', 'banana', 'mango', 'guava')"
      ]
     },
     "execution_count": 43,
     "metadata": {},
     "output_type": "execute_result"
    }
   ],
   "source": [
    "value"
   ]
  },
  {
   "cell_type": "code",
   "execution_count": null,
   "id": "39221460",
   "metadata": {},
   "outputs": [],
   "source": [
    "Task4\n",
    "\n"
   ]
  },
  {
   "cell_type": "code",
   "execution_count": 46,
   "id": "bcea14c4",
   "metadata": {},
   "outputs": [
    {
     "data": {
      "text/plain": [
       "{1, 'a'}"
      ]
     },
     "execution_count": 46,
     "metadata": {},
     "output_type": "execute_result"
    }
   ],
   "source": [
    "my_set={1,1,'a','a',True,True}\n",
    "my_set"
   ]
  },
  {
   "cell_type": "code",
   "execution_count": null,
   "id": "fbaa4c90",
   "metadata": {},
   "outputs": [],
   "source": []
  }
 ],
 "metadata": {
  "kernelspec": {
   "display_name": "Python 3 (ipykernel)",
   "language": "python",
   "name": "python3"
  },
  "language_info": {
   "codemirror_mode": {
    "name": "ipython",
    "version": 3
   },
   "file_extension": ".py",
   "mimetype": "text/x-python",
   "name": "python",
   "nbconvert_exporter": "python",
   "pygments_lexer": "ipython3",
   "version": "3.10.9"
  }
 },
 "nbformat": 4,
 "nbformat_minor": 5
}
