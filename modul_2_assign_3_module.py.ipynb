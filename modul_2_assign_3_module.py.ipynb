{
 "cells": [
  {
   "cell_type": "code",
   "execution_count": 11,
   "id": "16e17105",
   "metadata": {},
   "outputs": [],
   "source": [
    "def addition(self,a,b):\n",
    "    self.a  \n",
    "    self.b\n",
    "def subtraction(self,a,b):\n",
    "    self.a\n",
    "    self.b\n",
    "    \n",
    "def multiplication(self,a,b):\n",
    "    self.a\n",
    "    self.b\n",
    "    \n",
    "    \n",
    "def division(self,a,b):\n",
    "    self.a\n",
    "    self.b\n",
    "    \n",
    "    "
   ]
  },
  {
   "cell_type": "code",
   "execution_count": null,
   "id": "44774450",
   "metadata": {},
   "outputs": [],
   "source": []
  }
 ],
 "metadata": {
  "kernelspec": {
   "display_name": "Python 3 (ipykernel)",
   "language": "python",
   "name": "python3"
  },
  "language_info": {
   "codemirror_mode": {
    "name": "ipython",
    "version": 3
   },
   "file_extension": ".py",
   "mimetype": "text/x-python",
   "name": "python",
   "nbconvert_exporter": "python",
   "pygments_lexer": "ipython3",
   "version": "3.10.9"
  }
 },
 "nbformat": 4,
 "nbformat_minor": 5
}
