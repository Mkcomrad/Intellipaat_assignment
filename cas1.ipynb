{
 "cells": [
  {
   "cell_type": "code",
   "execution_count": null,
   "id": "3a590924",
   "metadata": {},
   "outputs": [],
   "source": []
  },
  {
   "cell_type": "code",
   "execution_count": null,
   "id": "dacd0c90",
   "metadata": {},
   "outputs": [],
   "source": [
    "#tast 1"
   ]
  },
  {
   "cell_type": "code",
   "execution_count": 6,
   "id": "1d5da223",
   "metadata": {},
   "outputs": [
    {
     "name": "stdout",
     "output_type": "stream",
     "text": [
      "1\n",
      "4\n",
      "9\n",
      "16\n",
      "25\n",
      "36\n",
      "49\n",
      "64\n",
      "81\n",
      "100\n"
     ]
    }
   ],
   "source": [
    "\n",
    "for x in range(1,11):\n",
    "    print(x**2)\n",
    "    \n"
   ]
  },
  {
   "cell_type": "code",
   "execution_count": null,
   "id": "bdf05c7c",
   "metadata": {},
   "outputs": [],
   "source": [
    "tast2"
   ]
  },
  {
   "cell_type": "code",
   "execution_count": 11,
   "id": "e7f30927",
   "metadata": {},
   "outputs": [],
   "source": [
    "def check():\n",
    "    if x%4==0:\n",
    "        print(\"The year is leap\")\n",
    "    else:\n",
    "        print(\"not leap year\")"
   ]
  },
  {
   "cell_type": "code",
   "execution_count": null,
   "id": "cd16772f",
   "metadata": {},
   "outputs": [],
   "source": [
    "tast3"
   ]
  },
  {
   "cell_type": "code",
   "execution_count": 13,
   "id": "1348a3cf",
   "metadata": {},
   "outputs": [
    {
     "name": "stdout",
     "output_type": "stream",
     "text": [
      "Original array: [1, 2, 3, 4, 5, 6, 7, 8, 9, 10]\n",
      "Array containing even numbers: [2, 4, 6, 8, 10]\n"
     ]
    }
   ],
   "source": [
    "def filter_even_numbers(input_array):\n",
    "    even_numbers = [num for num in input_array if num % 2 == 0]\n",
    "    return even_numbers\n",
    "\n",
    "\n",
    "user_array = [1, 2, 3, 4, 5, 6, 7, 8, 9, 10]\n",
    "result_array = filter_even_numbers(user_array)\n",
    "\n",
    "print(\"Original array:\", user_array)\n",
    "print(\"Array containing even numbers:\", result_array)\n"
   ]
  },
  {
   "cell_type": "code",
   "execution_count": null,
   "id": "a6c4f085",
   "metadata": {},
   "outputs": [],
   "source": []
  },
  {
   "cell_type": "code",
   "execution_count": null,
   "id": "5d783e41",
   "metadata": {},
   "outputs": [],
   "source": []
  }
 ],
 "metadata": {
  "kernelspec": {
   "display_name": "Python 3 (ipykernel)",
   "language": "python",
   "name": "python3"
  },
  "language_info": {
   "codemirror_mode": {
    "name": "ipython",
    "version": 3
   },
   "file_extension": ".py",
   "mimetype": "text/x-python",
   "name": "python",
   "nbconvert_exporter": "python",
   "pygments_lexer": "ipython3",
   "version": "3.10.9"
  }
 },
 "nbformat": 4,
 "nbformat_minor": 5
}
