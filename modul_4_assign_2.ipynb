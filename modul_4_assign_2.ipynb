{
 "cells": [
  {
   "cell_type": "code",
   "execution_count": 5,
   "id": "6aec1f94",
   "metadata": {},
   "outputs": [],
   "source": [
    "import numpy as np\n",
    "array=np.array([[[2,3,4],[4,5,6],[7,8,9]]])"
   ]
  },
  {
   "cell_type": "code",
   "execution_count": 6,
   "id": "51c50d05",
   "metadata": {},
   "outputs": [
    {
     "data": {
      "text/plain": [
       "3"
      ]
     },
     "execution_count": 6,
     "metadata": {},
     "output_type": "execute_result"
    }
   ],
   "source": [
    "array.ndim"
   ]
  },
  {
   "cell_type": "code",
   "execution_count": 7,
   "id": "7c57a388",
   "metadata": {},
   "outputs": [
    {
     "data": {
      "text/plain": [
       "9"
      ]
     },
     "execution_count": 7,
     "metadata": {},
     "output_type": "execute_result"
    }
   ],
   "source": [
    "array.size"
   ]
  },
  {
   "cell_type": "code",
   "execution_count": 12,
   "id": "2c001540",
   "metadata": {},
   "outputs": [
    {
     "name": "stdout",
     "output_type": "stream",
     "text": [
      "Enter space: 4\n",
      "Original array: [4]\n",
      "Array converted to float type: [4.]\n"
     ]
    }
   ],
   "source": [
    "import numpy as np\n",
    "user_input = input(\"Enter space: \")\n",
    "user_values = [int(x) for x in user_input.split()]\n",
    "original_array = np.array(user_values)\n",
    "\n",
    "float_array = original_array.astype(float)\n",
    "print(\"Original array:\", original_array)\n",
    "print(\"Array converted to float type:\", float_array)\n",
    "\n"
   ]
  },
  {
   "cell_type": "code",
   "execution_count": 15,
   "id": "78ae78f5",
   "metadata": {},
   "outputs": [],
   "source": [
    "orginal_array=np.array([10,20,30])\n",
    "apend_value=np.array([40,50,60,70,80,90])\n",
    "new_array=np.append(orginal_array,apend_value)\n"
   ]
  },
  {
   "cell_type": "code",
   "execution_count": 16,
   "id": "1671c102",
   "metadata": {},
   "outputs": [
    {
     "name": "stdout",
     "output_type": "stream",
     "text": [
      "[10 20 30 40 50 60 70 80 90]\n"
     ]
    }
   ],
   "source": [
    "print(new_array)"
   ]
  },
  {
   "cell_type": "code",
   "execution_count": 19,
   "id": "d3b6c027",
   "metadata": {},
   "outputs": [],
   "source": [
    "array1=np.array([2,3,4])\n",
    "array2=np.array([2,3,4])\n",
    "sumarray=array1+array2"
   ]
  },
  {
   "cell_type": "code",
   "execution_count": 20,
   "id": "f782326a",
   "metadata": {},
   "outputs": [
    {
     "data": {
      "text/plain": [
       "array([4, 6, 8])"
      ]
     },
     "execution_count": 20,
     "metadata": {},
     "output_type": "execute_result"
    }
   ],
   "source": [
    "sumarray"
   ]
  },
  {
   "cell_type": "code",
   "execution_count": 25,
   "id": "c5cd178d",
   "metadata": {},
   "outputs": [
    {
     "data": {
      "text/plain": [
       "array([[10, 20, 30],\n",
       "       [40, 50, 60],\n",
       "       [70, 80, 90]])"
      ]
     },
     "execution_count": 25,
     "metadata": {},
     "output_type": "execute_result"
    }
   ],
   "source": [
    "array1=np.arange(10,100,10).reshape(3,3)\n",
    "array1\n"
   ]
  },
  {
   "cell_type": "code",
   "execution_count": 32,
   "id": "4b4e861f",
   "metadata": {},
   "outputs": [
    {
     "data": {
      "text/plain": [
       "array([10, 20, 30])"
      ]
     },
     "execution_count": 32,
     "metadata": {},
     "output_type": "execute_result"
    }
   ],
   "source": [
    "array1[0,:]"
   ]
  },
  {
   "cell_type": "code",
   "execution_count": 34,
   "id": "f2afbe7d",
   "metadata": {},
   "outputs": [
    {
     "data": {
      "text/plain": [
       "90"
      ]
     },
     "execution_count": 34,
     "metadata": {},
     "output_type": "execute_result"
    }
   ],
   "source": [
    "array1[2,2]"
   ]
  },
  {
   "cell_type": "code",
   "execution_count": null,
   "id": "b7f73f64",
   "metadata": {},
   "outputs": [],
   "source": []
  }
 ],
 "metadata": {
  "kernelspec": {
   "display_name": "Python 3 (ipykernel)",
   "language": "python",
   "name": "python3"
  },
  "language_info": {
   "codemirror_mode": {
    "name": "ipython",
    "version": 3
   },
   "file_extension": ".py",
   "mimetype": "text/x-python",
   "name": "python",
   "nbconvert_exporter": "python",
   "pygments_lexer": "ipython3",
   "version": "3.10.9"
  }
 },
 "nbformat": 4,
 "nbformat_minor": 5
}
