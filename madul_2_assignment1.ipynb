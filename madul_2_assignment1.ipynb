{
 "cells": [
  {
   "cell_type": "code",
   "execution_count": null,
   "id": "2cc8f3c4",
   "metadata": {},
   "outputs": [],
   "source": [
    "tast1"
   ]
  },
  {
   "cell_type": "code",
   "execution_count": 7,
   "id": "5d1d8a41",
   "metadata": {},
   "outputs": [
    {
     "data": {
      "text/plain": [
       "120"
      ]
     },
     "execution_count": 7,
     "metadata": {},
     "output_type": "execute_result"
    }
   ],
   "source": [
    "def factor(num):\n",
    "    if num>=0:\n",
    "        res=1\n",
    "        for i in range(1,num+1):\n",
    "            res *=i\n",
    "        return res\n",
    "        \n",
    "        \n",
    "factor(5)  \n",
    "    "
   ]
  },
  {
   "cell_type": "code",
   "execution_count": null,
   "id": "19f8a395",
   "metadata": {},
   "outputs": [],
   "source": [
    "Task2"
   ]
  },
  {
   "cell_type": "code",
   "execution_count": 15,
   "id": "69d7576e",
   "metadata": {},
   "outputs": [
    {
     "name": "stdout",
     "output_type": "stream",
     "text": [
      "enter a stringsaumya\n",
      "the string have s\n"
     ]
    }
   ],
   "source": [
    "def check_string():\n",
    "    user_input=input(\"enter a string\")\n",
    "    if 's' in user_input or 'S' in user_input:\n",
    "        print(\"the string have s\")\n",
    "    else:\n",
    "        print('string is not have letter s')\n",
    "        \n",
    "check_string()\n"
   ]
  },
  {
   "cell_type": "code",
   "execution_count": null,
   "id": "289f7228",
   "metadata": {},
   "outputs": [],
   "source": [
    "task3"
   ]
  },
  {
   "cell_type": "code",
   "execution_count": 22,
   "id": "5658ea43",
   "metadata": {},
   "outputs": [
    {
     "name": "stdout",
     "output_type": "stream",
     "text": [
      "Enter a value: hello\n",
      "User input  fun1: hello\n"
     ]
    }
   ],
   "source": [
    "class Student:\n",
    "    def __init__(self):\n",
    "        self.user_input = None\n",
    "    def fun1(self):\n",
    "        self.user_input = input(\"Enter a value: \")\n",
    "        return self.user_input\n",
    "\n",
    "    def message(self):\n",
    "        if self.user_input is not None:\n",
    "            print(\"User input  fun1:\", self.user_input)\n",
    "        else:\n",
    "            print(\"No user input.\")\n",
    "\n",
    "student_instance = Student()\n",
    "user_value = student_instance.fun1()\n",
    "student_instance.message()\n"
   ]
  },
  {
   "cell_type": "code",
   "execution_count": 4,
   "id": "d30330c4",
   "metadata": {},
   "outputs": [
    {
     "name": "stdout",
     "output_type": "stream",
     "text": [
      "8\n",
      "26\n"
     ]
    }
   ],
   "source": [
    "duble_num=lambda x:x*2\n",
    "print(duble_num(4))\n",
    "print(duble_num(13))"
   ]
  },
  {
   "cell_type": "code",
   "execution_count": null,
   "id": "a911037c",
   "metadata": {},
   "outputs": [],
   "source": [
    "Task4"
   ]
  },
  {
   "cell_type": "code",
   "execution_count": null,
   "id": "72667e47",
   "metadata": {},
   "outputs": [],
   "source": []
  },
  {
   "cell_type": "code",
   "execution_count": null,
   "id": "24518d77",
   "metadata": {},
   "outputs": [],
   "source": [
    "\n",
    "user_string = input(\"Enter a string: \")\n",
    "user_string = user_string.lower().replace(\" \", \"\")\n",
    "reversed_string = user_string[::-1]\n",
    "if user_string == reversed_string:\n",
    "    print(\"The string is a palindrome\")\n",
    "else:\n",
    "    print(\"The string is not a palindrome\")\n"
   ]
  },
  {
   "cell_type": "code",
   "execution_count": null,
   "id": "4931d2ab",
   "metadata": {},
   "outputs": [],
   "source": []
  },
  {
   "cell_type": "code",
   "execution_count": null,
   "id": "fab2b18f",
   "metadata": {},
   "outputs": [],
   "source": []
  },
  {
   "cell_type": "code",
   "execution_count": null,
   "id": "1459e5e6",
   "metadata": {},
   "outputs": [],
   "source": []
  },
  {
   "cell_type": "code",
   "execution_count": null,
   "id": "5ab1c8d8",
   "metadata": {},
   "outputs": [],
   "source": []
  },
  {
   "cell_type": "code",
   "execution_count": null,
   "id": "33513981",
   "metadata": {},
   "outputs": [],
   "source": []
  },
  {
   "cell_type": "code",
   "execution_count": null,
   "id": "ffd19247",
   "metadata": {},
   "outputs": [],
   "source": []
  }
 ],
 "metadata": {
  "kernelspec": {
   "display_name": "Python 3 (ipykernel)",
   "language": "python",
   "name": "python3"
  },
  "language_info": {
   "codemirror_mode": {
    "name": "ipython",
    "version": 3
   },
   "file_extension": ".py",
   "mimetype": "text/x-python",
   "name": "python",
   "nbconvert_exporter": "python",
   "pygments_lexer": "ipython3",
   "version": "3.10.9"
  }
 },
 "nbformat": 4,
 "nbformat_minor": 5
}
