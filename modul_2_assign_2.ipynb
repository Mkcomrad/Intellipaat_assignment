{
 "cells": [
  {
   "cell_type": "code",
   "execution_count": null,
   "id": "1b8d90cc",
   "metadata": {},
   "outputs": [],
   "source": [
    "task1"
   ]
  },
  {
   "cell_type": "code",
   "execution_count": 9,
   "id": "62009f57",
   "metadata": {},
   "outputs": [
    {
     "name": "stdout",
     "output_type": "stream",
     "text": [
      "hello\n",
      "this is function 1\n"
     ]
    }
   ],
   "source": [
    "class Super:\n",
    "    def fun1(self):\n",
    "        print('this is function 1')\n",
    "        #constructor\n",
    "    def __init__(self):\n",
    "        print('hello')\n",
    "        \n",
    "obj=Super()       \n",
    "obj.fun1()"
   ]
  },
  {
   "cell_type": "code",
   "execution_count": null,
   "id": "f1eb2915",
   "metadata": {},
   "outputs": [],
   "source": [
    "task2"
   ]
  },
  {
   "cell_type": "code",
   "execution_count": 19,
   "id": "ad4d65cb",
   "metadata": {},
   "outputs": [
    {
     "name": "stdout",
     "output_type": "stream",
     "text": [
      "hello\n",
      "this is function1 \n",
      "this is fun2\n"
     ]
    }
   ],
   "source": [
    "class Super:\n",
    "    def fun1(self):\n",
    "        print('this is function 1')\n",
    "class Modified_super(Super):\n",
    "    def fun1(self):\n",
    "        print('this is function1 ')\n",
    "    def fun2(self):\n",
    "        print(\"this is fun2\")\n",
    "    \n",
    "    \n",
    "        #constructor\n",
    "    def __init__(self):\n",
    "        print('hello')\n",
    "        \n",
    "obj=Modified_super() \n",
    "obj.fun1()\n",
    "obj.fun2()\n",
    "\n"
   ]
  },
  {
   "cell_type": "code",
   "execution_count": null,
   "id": "e39e18c3",
   "metadata": {},
   "outputs": [],
   "source": [
    "task3"
   ]
  },
  {
   "cell_type": "code",
   "execution_count": 20,
   "id": "33b052c4",
   "metadata": {},
   "outputs": [],
   "source": [
    "def Hello(a):\n",
    "    print('this is only having one argument')\n",
    "def Hello(a,b):\n",
    "    print('this is having 2 argument')\n",
    "    "
   ]
  },
  {
   "cell_type": "code",
   "execution_count": 23,
   "id": "0ee9f746",
   "metadata": {},
   "outputs": [
    {
     "ename": "TypeError",
     "evalue": "Hello() missing 1 required positional argument: 'b'",
     "output_type": "error",
     "traceback": [
      "\u001b[1;31m---------------------------------------------------------------------------\u001b[0m",
      "\u001b[1;31mTypeError\u001b[0m                                 Traceback (most recent call last)",
      "Cell \u001b[1;32mIn[23], line 1\u001b[0m\n\u001b[1;32m----> 1\u001b[0m \u001b[43mHello\u001b[49m\u001b[43m(\u001b[49m\u001b[38;5;241;43m3\u001b[39;49m\u001b[43m)\u001b[49m\n",
      "\u001b[1;31mTypeError\u001b[0m: Hello() missing 1 required positional argument: 'b'"
     ]
    }
   ],
   "source": [
    "Hello(3)"
   ]
  },
  {
   "cell_type": "code",
   "execution_count": 24,
   "id": "115428ea",
   "metadata": {},
   "outputs": [
    {
     "name": "stdout",
     "output_type": "stream",
     "text": [
      "this is having 2 argument\n"
     ]
    }
   ],
   "source": [
    "Hello(3,5)"
   ]
  },
  {
   "cell_type": "code",
   "execution_count": null,
   "id": "6a731fb9",
   "metadata": {},
   "outputs": [],
   "source": [
    "task4"
   ]
  },
  {
   "cell_type": "code",
   "execution_count": 31,
   "id": "623b15c8",
   "metadata": {},
   "outputs": [
    {
     "name": "stdout",
     "output_type": "stream",
     "text": [
      "Enter the first number: 1\n",
      "Enter the second number: 2\n",
      "Enter the third number: 3\n",
      "The sum of the numbers is: 6.0\n"
     ]
    }
   ],
   "source": [
    "class Calculator:\n",
    "    def Sum(self, *args):\n",
    "        result = 0\n",
    "        for num in args:\n",
    "            result += num\n",
    "        return result\n",
    "\n",
    "calculator_instance = Calculator()\n",
    "num1 = float(input(\"Enter the first number... \"))\n",
    "num2 = float(input(\"Enter the second number... \"))\n",
    "num3 = float(input(\"Enter the third number: \"))\n",
    "total_sum = calculator_instance.Sum(num1, num2, num3)\n",
    "print(f\"The sum of the numbers is: {total_sum}\")\n"
   ]
  },
  {
   "cell_type": "code",
   "execution_count": null,
   "id": "816bbd64",
   "metadata": {},
   "outputs": [],
   "source": [
    "task5"
   ]
  },
  {
   "cell_type": "code",
   "execution_count": 51,
   "id": "8da35469",
   "metadata": {},
   "outputs": [
    {
     "data": {
      "text/plain": [
       "10"
      ]
     },
     "execution_count": 51,
     "metadata": {},
     "output_type": "execute_result"
    }
   ],
   "source": [
    "class Encapsulation:\n",
    "    def __init__(self):\n",
    "        self.originalValue=10\n",
    "    def value(self):\n",
    "        return self.originalValue\n",
    "        \n",
    "obj=Encapsulation()\n",
    "obj.value()\n",
    "\n",
    "        "
   ]
  },
  {
   "cell_type": "code",
   "execution_count": null,
   "id": "4f14b373",
   "metadata": {},
   "outputs": [],
   "source": []
  }
 ],
 "metadata": {
  "kernelspec": {
   "display_name": "Python 3 (ipykernel)",
   "language": "python",
   "name": "python3"
  },
  "language_info": {
   "codemirror_mode": {
    "name": "ipython",
    "version": 3
   },
   "file_extension": ".py",
   "mimetype": "text/x-python",
   "name": "python",
   "nbconvert_exporter": "python",
   "pygments_lexer": "ipython3",
   "version": "3.10.9"
  }
 },
 "nbformat": 4,
 "nbformat_minor": 5
}
