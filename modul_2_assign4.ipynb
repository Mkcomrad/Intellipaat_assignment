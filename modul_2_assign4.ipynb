{
 "cells": [
  {
   "cell_type": "code",
   "execution_count": 2,
   "id": "3de4e5f9",
   "metadata": {},
   "outputs": [
    {
     "data": {
      "text/plain": [
       "10"
      ]
     },
     "execution_count": 2,
     "metadata": {},
     "output_type": "execute_result"
    }
   ],
   "source": [
    "class parent_Class:\n",
    "    num=10\n",
    "class child_Class(parent_Class):\n",
    "    pass\n",
    "    \n",
    "\n",
    "obj=child_Class()\n",
    "obj.num\n",
    "\n",
    "    \n",
    "    "
   ]
  },
  {
   "cell_type": "code",
   "execution_count": null,
   "id": "f2aa747b",
   "metadata": {},
   "outputs": [],
   "source": [
    "task2"
   ]
  },
  {
   "cell_type": "code",
   "execution_count": 8,
   "id": "71ad1050",
   "metadata": {},
   "outputs": [
    {
     "name": "stdout",
     "output_type": "stream",
     "text": [
      "ravi\n"
     ]
    }
   ],
   "source": [
    "class A:\n",
    "\n",
    "    def __init__(self,name,age):\n",
    "        self.name=name\n",
    "        self.age=age\n",
    "    def details(self):\n",
    "        return self.name\n",
    "        \n",
    "class B:\n",
    "    def __init__(self,name,id):\n",
    "        self.name=name\n",
    "        self.id=id\n",
    "    def datails(self):\n",
    "        return self.name\n",
    "        \n",
    "    \n",
    "class C(A,B):\n",
    "    def __init__(self,name,age,id):\n",
    "        super().__init__(name,age)\n",
    "        self.id=id\n",
    "    def get_details(self):\n",
    "        return self.name\n",
    "obj=C(name='ravi',age=23,id=23)\n",
    "result=obj.get_details()\n",
    "print(result)\n",
    "\n",
    "    "
   ]
  },
  {
   "cell_type": "code",
   "execution_count": null,
   "id": "9f518270",
   "metadata": {},
   "outputs": [],
   "source": [
    "task3"
   ]
  },
  {
   "cell_type": "code",
   "execution_count": 13,
   "id": "056ecf26",
   "metadata": {},
   "outputs": [
    {
     "name": "stdout",
     "output_type": "stream",
     "text": [
      "this is the final method from the super class\n",
      "this is the second function from sub 2 classs\n",
      "this is the first function from sub 1 class\n"
     ]
    }
   ],
   "source": [
    "class Sub1:\n",
    "    def first(self):\n",
    "        print('this is the first function from sub 1 class')\n",
    "class Sub2:\n",
    "    def second(self):\n",
    "        print('this is the second function from sub 2 classs')\n",
    "class Super(Sub1,Sub2):\n",
    "    def final(self):\n",
    "        print('this is the final method from the super class')\n",
    "\n",
    "obj=Super()\n",
    "obj.final()\n",
    "obj.second()\n",
    "obj.first()\n",
    "    "
   ]
  },
  {
   "cell_type": "code",
   "execution_count": null,
   "id": "25d619dc",
   "metadata": {},
   "outputs": [],
   "source": [
    "task4"
   ]
  },
  {
   "cell_type": "code",
   "execution_count": 17,
   "id": "a7404e76",
   "metadata": {},
   "outputs": [
    {
     "name": "stdout",
     "output_type": "stream",
     "text": [
      "function fun1\n",
      "function fun2\n",
      "function fun3\n"
     ]
    }
   ],
   "source": [
    "class Parent:\n",
    "    def fun1(self):\n",
    "        print('function fun1')\n",
    "class Child1:\n",
    "    def fun2(self):\n",
    "        print('function fun2')\n",
    "class Child2(Parent,Child1):\n",
    "    def fun3(self):\n",
    "        print('function fun3')\n",
    "obj=Child2()\n",
    "obj.fun1()\n",
    "obj.fun2()\n",
    "obj.fun3()"
   ]
  },
  {
   "cell_type": "code",
   "execution_count": null,
   "id": "70b73213",
   "metadata": {},
   "outputs": [],
   "source": [
    "task5"
   ]
  },
  {
   "cell_type": "code",
   "execution_count": 18,
   "id": "36ece628",
   "metadata": {},
   "outputs": [
    {
     "name": "stdout",
     "output_type": "stream",
     "text": [
      "function fun1\n",
      "function fun2\n",
      "function fun3\n"
     ]
    }
   ],
   "source": [
    "class Parent:\n",
    "    def fun1(self):\n",
    "        print('function fun1')\n",
    "class Child:\n",
    "    def fun2(self):\n",
    "        print('function fun2')\n",
    "class Hybrid(Parent,Child):\n",
    "    def fun3(self):\n",
    "        print('function fun3')\n",
    "obj=Hybrid()\n",
    "obj.fun1()\n",
    "obj.fun2()\n",
    "obj.fun3()"
   ]
  },
  {
   "cell_type": "code",
   "execution_count": null,
   "id": "3eb63620",
   "metadata": {},
   "outputs": [],
   "source": []
  }
 ],
 "metadata": {
  "kernelspec": {
   "display_name": "Python 3 (ipykernel)",
   "language": "python",
   "name": "python3"
  },
  "language_info": {
   "codemirror_mode": {
    "name": "ipython",
    "version": 3
   },
   "file_extension": ".py",
   "mimetype": "text/x-python",
   "name": "python",
   "nbconvert_exporter": "python",
   "pygments_lexer": "ipython3",
   "version": "3.10.9"
  }
 },
 "nbformat": 4,
 "nbformat_minor": 5
}
