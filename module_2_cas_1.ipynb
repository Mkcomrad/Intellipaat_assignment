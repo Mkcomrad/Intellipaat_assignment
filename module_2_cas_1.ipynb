{
 "cells": [
  {
   "cell_type": "code",
   "execution_count": 17,
   "id": "cb9bcdab",
   "metadata": {},
   "outputs": [
    {
     "name": "stdout",
     "output_type": "stream",
     "text": [
      "Name:ram,Salary:4000\n"
     ]
    }
   ],
   "source": [
    "class Employee:\n",
    "    def __init__(self,name,salary):\n",
    "        self.name=name\n",
    "        self.salary=salary\n",
    "    def __str__(self):\n",
    "        return f\"Name:{self.name},Salary:{self.salary}\"\n",
    "employee=Employee('ram',4000)\n",
    "print(employee)\n",
    "        \n",
    "        \n",
    "        "
   ]
  },
  {
   "cell_type": "code",
   "execution_count": null,
   "id": "1ec03c2a",
   "metadata": {},
   "outputs": [],
   "source": [
    "task2"
   ]
  },
  {
   "cell_type": "code",
   "execution_count": 27,
   "id": "1b1405a1",
   "metadata": {},
   "outputs": [
    {
     "name": "stdout",
     "output_type": "stream",
     "text": [
      "11\n",
      "-5\n",
      "24\n",
      "0.375\n"
     ]
    }
   ],
   "source": [
    "class Calculator:\n",
    "    def add(self,a,b):\n",
    "        return (a+b)\n",
    "    def subtract(self,a,b):\n",
    "        return (a-b)\n",
    "    def multiply(self,a,b):\n",
    "        return (a*b)\n",
    "    def divid(self,a,b):\n",
    "        return (a/b)\n",
    "    def execut_command(self,command,a,b):\n",
    "        if command=='add':\n",
    "            return self.add(a,b)\n",
    "        elif command=='subtract':\n",
    "            return self.subtract(a,b)\n",
    "        elif command=='multiply':\n",
    "            return self.multiply(a,b)\n",
    "        elif command=='divid':\n",
    "            return self.divid(a,b)\n",
    "    \n",
    "calculator=Calculator()\n",
    "print(calculator.add(3,8))\n",
    "print(calculator.subtract(3,8))\n",
    "print(calculator.multiply(3,8))\n",
    "print(calculator.divid(3,8))\n",
    "    \n",
    "        \n",
    "    "
   ]
  },
  {
   "cell_type": "code",
   "execution_count": null,
   "id": "0421b273",
   "metadata": {},
   "outputs": [],
   "source": []
  },
  {
   "cell_type": "code",
   "execution_count": null,
   "id": "3c43e69b",
   "metadata": {},
   "outputs": [],
   "source": []
  }
 ],
 "metadata": {
  "kernelspec": {
   "display_name": "Python 3 (ipykernel)",
   "language": "python",
   "name": "python3"
  },
  "language_info": {
   "codemirror_mode": {
    "name": "ipython",
    "version": 3
   },
   "file_extension": ".py",
   "mimetype": "text/x-python",
   "name": "python",
   "nbconvert_exporter": "python",
   "pygments_lexer": "ipython3",
   "version": "3.10.9"
  }
 },
 "nbformat": 4,
 "nbformat_minor": 5
}
