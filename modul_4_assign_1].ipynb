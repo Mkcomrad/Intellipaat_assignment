{
 "cells": [
  {
   "cell_type": "code",
   "execution_count": 8,
   "id": "d28f178c",
   "metadata": {},
   "outputs": [],
   "source": [
    "#task1\n",
    "\n",
    "myList=[10,20,30,'apple',True,8.10]\n",
    "myList.append(30)\n",
    "myList.append(40)"
   ]
  },
  {
   "cell_type": "code",
   "execution_count": 9,
   "id": "f5fac132",
   "metadata": {},
   "outputs": [
    {
     "data": {
      "text/plain": [
       "[10, 20, 30, 'apple', True, 8.1, 30, 40]"
      ]
     },
     "execution_count": 9,
     "metadata": {},
     "output_type": "execute_result"
    }
   ],
   "source": [
    "myList"
   ]
  },
  {
   "cell_type": "code",
   "execution_count": null,
   "id": "9345ca34",
   "metadata": {},
   "outputs": [],
   "source": [
    "Task2"
   ]
  },
  {
   "cell_type": "code",
   "execution_count": 26,
   "id": "0adf48c8",
   "metadata": {},
   "outputs": [],
   "source": [
    "dict={1:'data',2:'information',3:'text'}"
   ]
  },
  {
   "cell_type": "code",
   "execution_count": 27,
   "id": "01551387",
   "metadata": {},
   "outputs": [],
   "source": [
    "del dict[3]"
   ]
  },
  {
   "cell_type": "code",
   "execution_count": 29,
   "id": "744a1657",
   "metadata": {},
   "outputs": [
    {
     "data": {
      "text/plain": [
       "{1: 'data', 2: 'information'}"
      ]
     },
     "execution_count": 29,
     "metadata": {},
     "output_type": "execute_result"
    }
   ],
   "source": [
    "dict"
   ]
  },
  {
   "cell_type": "code",
   "execution_count": 31,
   "id": "2657e931",
   "metadata": {},
   "outputs": [],
   "source": [
    "dict[3]='features'"
   ]
  },
  {
   "cell_type": "code",
   "execution_count": 32,
   "id": "ee0dbf0c",
   "metadata": {},
   "outputs": [
    {
     "data": {
      "text/plain": [
       "{1: 'data', 2: 'information', 3: 'features'}"
      ]
     },
     "execution_count": 32,
     "metadata": {},
     "output_type": "execute_result"
    }
   ],
   "source": [
    "dict"
   ]
  },
  {
   "cell_type": "code",
   "execution_count": 33,
   "id": "b65dcb5a",
   "metadata": {},
   "outputs": [],
   "source": [
    "fetch=dict.get(1)"
   ]
  },
  {
   "cell_type": "code",
   "execution_count": 34,
   "id": "b627926d",
   "metadata": {},
   "outputs": [
    {
     "data": {
      "text/plain": [
       "'data'"
      ]
     },
     "execution_count": 34,
     "metadata": {},
     "output_type": "execute_result"
    }
   ],
   "source": [
    "fetch"
   ]
  },
  {
   "cell_type": "code",
   "execution_count": null,
   "id": "9c92f114",
   "metadata": {},
   "outputs": [],
   "source": [
    "#task3"
   ]
  },
  {
   "cell_type": "code",
   "execution_count": 46,
   "id": "c282626a",
   "metadata": {},
   "outputs": [],
   "source": [
    "tuple=(1,2,3)"
   ]
  },
  {
   "cell_type": "code",
   "execution_count": 47,
   "id": "1d138d3f",
   "metadata": {},
   "outputs": [],
   "source": [
    "my_tuple=('apple','mango')"
   ]
  },
  {
   "cell_type": "code",
   "execution_count": 48,
   "id": "588d6db4",
   "metadata": {},
   "outputs": [],
   "source": [
    "new_tuple=tuple+my_tuple"
   ]
  },
  {
   "cell_type": "code",
   "execution_count": 49,
   "id": "477927ee",
   "metadata": {},
   "outputs": [
    {
     "data": {
      "text/plain": [
       "(1, 2, 3, 'apple', 'mango')"
      ]
     },
     "execution_count": 49,
     "metadata": {},
     "output_type": "execute_result"
    }
   ],
   "source": [
    "new_tuple"
   ]
  },
  {
   "cell_type": "code",
   "execution_count": null,
   "id": "a688a043",
   "metadata": {},
   "outputs": [],
   "source": [
    "task4"
   ]
  },
  {
   "cell_type": "code",
   "execution_count": 53,
   "id": "7dae271d",
   "metadata": {},
   "outputs": [],
   "source": [
    "numeric_tuple=(10,20,30,40,50)\n"
   ]
  },
  {
   "cell_type": "code",
   "execution_count": 54,
   "id": "c10639c1",
   "metadata": {},
   "outputs": [
    {
     "data": {
      "text/plain": [
       "10"
      ]
     },
     "execution_count": 54,
     "metadata": {},
     "output_type": "execute_result"
    }
   ],
   "source": [
    "min(numeric_tuple)"
   ]
  },
  {
   "cell_type": "code",
   "execution_count": 55,
   "id": "bbbc78c7",
   "metadata": {},
   "outputs": [],
   "source": [
    "r1=my_tuple+numeric_tuple"
   ]
  },
  {
   "cell_type": "code",
   "execution_count": 56,
   "id": "65cb2313",
   "metadata": {},
   "outputs": [
    {
     "data": {
      "text/plain": [
       "('apple', 'mango', 10, 20, 30, 40, 50)"
      ]
     },
     "execution_count": 56,
     "metadata": {},
     "output_type": "execute_result"
    }
   ],
   "source": [
    "r1"
   ]
  },
  {
   "cell_type": "code",
   "execution_count": 58,
   "id": "67357a45",
   "metadata": {},
   "outputs": [],
   "source": [
    "newdupli=my_tuple*2"
   ]
  },
  {
   "cell_type": "code",
   "execution_count": 59,
   "id": "fc67966a",
   "metadata": {},
   "outputs": [
    {
     "data": {
      "text/plain": [
       "('apple', 'mango', 'apple', 'mango')"
      ]
     },
     "execution_count": 59,
     "metadata": {},
     "output_type": "execute_result"
    }
   ],
   "source": [
    "newdupli"
   ]
  },
  {
   "cell_type": "code",
   "execution_count": null,
   "id": "431b31b6",
   "metadata": {},
   "outputs": [],
   "source": [
    "task4"
   ]
  },
  {
   "cell_type": "code",
   "execution_count": 60,
   "id": "231f3884",
   "metadata": {},
   "outputs": [],
   "source": [
    "set1={1,2,3,4,5}\n",
    "set2={2,3,7,6,1}\n",
    "union=set1.union(set2)\n",
    "intersection=set1.intersection(set2)\n",
    "difference=set1.difference(set2)"
   ]
  },
  {
   "cell_type": "code",
   "execution_count": 64,
   "id": "d4eeb20e",
   "metadata": {},
   "outputs": [],
   "source": [
    "union=set1.union(set2)\n",
    "intersection=set1.intersection(set2)\n",
    "difference=set1.difference(set2)"
   ]
  },
  {
   "cell_type": "code",
   "execution_count": 67,
   "id": "46a91e77",
   "metadata": {},
   "outputs": [
    {
     "data": {
      "text/plain": [
       "{1, 2, 3, 4, 5, 6, 7}"
      ]
     },
     "execution_count": 67,
     "metadata": {},
     "output_type": "execute_result"
    }
   ],
   "source": [
    "union"
   ]
  },
  {
   "cell_type": "code",
   "execution_count": 66,
   "id": "87184e9e",
   "metadata": {},
   "outputs": [
    {
     "data": {
      "text/plain": [
       "{1, 2, 3}"
      ]
     },
     "execution_count": 66,
     "metadata": {},
     "output_type": "execute_result"
    }
   ],
   "source": [
    "intersection"
   ]
  },
  {
   "cell_type": "code",
   "execution_count": 65,
   "id": "570cb76f",
   "metadata": {},
   "outputs": [
    {
     "data": {
      "text/plain": [
       "{4, 5}"
      ]
     },
     "execution_count": 65,
     "metadata": {},
     "output_type": "execute_result"
    }
   ],
   "source": [
    "difference"
   ]
  },
  {
   "cell_type": "code",
   "execution_count": null,
   "id": "858be94d",
   "metadata": {},
   "outputs": [],
   "source": []
  }
 ],
 "metadata": {
  "kernelspec": {
   "display_name": "Python 3 (ipykernel)",
   "language": "python",
   "name": "python3"
  },
  "language_info": {
   "codemirror_mode": {
    "name": "ipython",
    "version": 3
   },
   "file_extension": ".py",
   "mimetype": "text/x-python",
   "name": "python",
   "nbconvert_exporter": "python",
   "pygments_lexer": "ipython3",
   "version": "3.10.9"
  }
 },
 "nbformat": 4,
 "nbformat_minor": 5
}
