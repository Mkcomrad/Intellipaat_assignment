{
 "cells": [
  {
   "cell_type": "code",
   "execution_count": null,
   "id": "64436f36",
   "metadata": {},
   "outputs": [],
   "source": [
    "#condition statement"
   ]
  },
  {
   "cell_type": "code",
   "execution_count": 10,
   "id": "dcafb41b",
   "metadata": {},
   "outputs": [
    {
     "name": "stdout",
     "output_type": "stream",
     "text": [
      "enter first number...4\n",
      "enter second  number...3\n",
      "enter third number...1\n",
      "first  number is greater...\n",
      "incorrect input \n"
     ]
    }
   ],
   "source": [
    "x=int(input(\"enter first number...\"))\n",
    "y=int(input(\"enter second  number...\"))\n",
    "z=int(input(\"enter third number...\"))\n",
    "if (x>=y) & (x>=z):\n",
    "    print(\"first  number is greater...\")\n",
    "if (y>=x) & (y>=z):\n",
    "    print(\"second number is greter \")\n",
    "if (z>=x) & (z>=y):\n",
    "    print(\"third number is greter\")\n",
    "else:\n",
    "    print('incorrect input ')"
   ]
  },
  {
   "cell_type": "code",
   "execution_count": null,
   "id": "5a828300",
   "metadata": {},
   "outputs": [],
   "source": []
  },
  {
   "cell_type": "code",
   "execution_count": null,
   "id": "b1bd3ccf",
   "metadata": {},
   "outputs": [],
   "source": []
  }
 ],
 "metadata": {
  "kernelspec": {
   "display_name": "Python 3 (ipykernel)",
   "language": "python",
   "name": "python3"
  },
  "language_info": {
   "codemirror_mode": {
    "name": "ipython",
    "version": 3
   },
   "file_extension": ".py",
   "mimetype": "text/x-python",
   "name": "python",
   "nbconvert_exporter": "python",
   "pygments_lexer": "ipython3",
   "version": "3.10.9"
  }
 },
 "nbformat": 4,
 "nbformat_minor": 5
}
